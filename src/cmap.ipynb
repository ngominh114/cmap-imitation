{
 "cells": [
  {
   "cell_type": "code",
   "execution_count": 17,
   "metadata": {},
   "outputs": [],
   "source": [
    "from cmapPy.pandasGEXpress.parse import parse\n",
    "import pandas as pd\n",
    "import numpy as np"
   ]
  },
  {
   "cell_type": "code",
   "execution_count": 18,
   "metadata": {},
   "outputs": [],
   "source": [
    "data = parse(\"C:/Users/ngomi/Downloads/Documents/data.gctx\").data_df\n",
    "data.index = data.index.astype(int)\n",
    "gene_info = pd.read_csv(\"../data/geneinfo_beta.txt\", delimiter=\"\\t\")\n",
    "gene_dict = {}\n",
    "for i in range(len(gene_info.index)):\n",
    "    gene_dict[str(gene_info[\"gene_symbol\"][i])] = gene_info[\"gene_id\"][i]"
   ]
  },
  {
   "cell_type": "code",
   "execution_count": 19,
   "metadata": {},
   "outputs": [],
   "source": [
    "up_gene_file = \"../data/Example_up_genes.txt\"\n",
    "down_gene_file = \"../data/Example_down_genes.txt\"\n",
    "\n",
    "def read_genes(file_name):\n",
    "    with open(file_name) as file:\n",
    "        return [gene.strip() for gene in file.readlines()]\n",
    "\n",
    "up_genes = read_genes(up_gene_file)\n",
    "down_genes = read_genes(down_gene_file)\n",
    "n_expression = len(data.columns)\n",
    "n_ref_gene = len(data.index)"
   ]
  },
  {
   "cell_type": "code",
   "execution_count": 20,
   "metadata": {},
   "outputs": [],
   "source": [
    "def calc_es_score(ref_df, cid, gene_list):\n",
    "    gene_indexes = ref_df.index.isin(gene_list)\n",
    "    ns = len(gene_list)\n",
    "    nr = ref_df.loc[gene_indexes, cid].sum()\n",
    "    cumsum_score = np.zeros(n_ref_gene)\n",
    "    cumsum_score[gene_indexes] = ref_df.loc[gene_indexes, cid] / nr\n",
    "    cumsum_score[~gene_indexes] = -1 / (n_ref_gene - ns)\n",
    "    scores = np.cumsum(cumsum_score)\n",
    "    min_score = min(scores)\n",
    "    max_score = max(scores)\n",
    "    return max_score if abs(max_score) > abs(min_score) else min_score"
   ]
  },
  {
   "cell_type": "code",
   "execution_count": 21,
   "metadata": {},
   "outputs": [],
   "source": [
    "\n",
    "import time\n",
    "\n",
    "def cmap(up_gene_list, down_gene_list):\n",
    "    up_gene_list = [gene_dict[i] for i in up_gene_list if i in gene_dict]\n",
    "    down_gene_list = [gene_dict[i] for i in down_gene_list if i in gene_dict]\n",
    "    c_scores = []\n",
    "    start = time.time()\n",
    "    for cid in data.columns:\n",
    "        df = pd.DataFrame(data[cid].sort_values(ascending=False)).abs()\n",
    "        up_es_score = calc_es_score(df, cid, up_gene_list)\n",
    "        down_es_score = calc_es_score(df, cid, down_gene_list)\n",
    "        if up_es_score*down_es_score < 0:\n",
    "            c_scores.append((up_es_score - down_es_score)/2)\n",
    "        else:\n",
    "            c_scores.append(0)\n",
    "    end = time.time()\n",
    "    print(\"Running time\", (end - start)*1000)\n",
    "    return pd.DataFrame({\"expression\": data.columns, \"c_score\": c_scores})"
   ]
  },
  {
   "cell_type": "code",
   "execution_count": 22,
   "metadata": {},
   "outputs": [
    {
     "name": "stdout",
     "output_type": "stream",
     "text": [
      "Running time 170871.50835990906\n"
     ]
    }
   ],
   "source": [
    "result = cmap(up_genes, down_genes)\n",
    "result = result.sort_values(by=[\"c_score\"], ascending=False)\n",
    "result.to_csv(\"test result.csv\")"
   ]
  }
 ],
 "metadata": {
  "kernelspec": {
   "display_name": "Python 3",
   "language": "python",
   "name": "python3"
  },
  "language_info": {
   "codemirror_mode": {
    "name": "ipython",
    "version": 3
   },
   "file_extension": ".py",
   "mimetype": "text/x-python",
   "name": "python",
   "nbconvert_exporter": "python",
   "pygments_lexer": "ipython3",
   "version": "3.11.5"
  }
 },
 "nbformat": 4,
 "nbformat_minor": 2
}
