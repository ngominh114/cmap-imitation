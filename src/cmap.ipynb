{
 "cells": [
  {
   "cell_type": "code",
   "execution_count": 2,
   "metadata": {},
   "outputs": [],
   "source": [
    "from cmapPy.pandasGEXpress.parse import parse\n",
    "import pandas as pd"
   ]
  },
  {
   "cell_type": "code",
   "execution_count": 6,
   "metadata": {},
   "outputs": [],
   "source": [
    "data = parse(\"C:/Users/ngomi/Downloads/Documents/level5_beta_trt_oe_n34171x12328.gctx\").data_df\n",
    "gene_info = pd.read_csv(\"../data/geneinfo_beta.txt\", delimiter=\"\\t\")\n",
    "gene_dict = {}\n",
    "for i in range(len(gene_info.index)):\n",
    "    gene_dict[str(gene_info[\"gene_id\"][i])] = gene_info[\"gene_symbol\"][i]"
   ]
  },
  {
   "cell_type": "code",
   "execution_count": 12,
   "metadata": {},
   "outputs": [],
   "source": [
    "up_gene_file = \"../data/Example up genes.txt\"\n",
    "down_gene_file = \"../data/Example down genes.txt\"\n",
    "\n",
    "def read_genes(file_name):\n",
    "    with open(file_name) as file:\n",
    "        return [gene.strip() for gene in file.readlines()]\n",
    "\n",
    "up_genes = read_genes(up_gene_file)\n",
    "down_genes = read_genes(down_gene_file)"
   ]
  },
  {
   "cell_type": "code",
   "execution_count": 22,
   "metadata": {},
   "outputs": [],
   "source": [
    "n_expression = len(data.columns)\n",
    "n_ref_gene = len(data.index)\n",
    "\n",
    "def calc_es_score(ref_df, gene_list):\n",
    "    cumsum_score = 0\n",
    "    es_score = 0\n",
    "    n = len(ref_df.index)\n",
    "    ns = len(gene_list)\n",
    "    nr = 0\n",
    "    for i in range(n):\n",
    "        if gene_dict[ref_df.index[i]] in gene_list:\n",
    "            nr += abs(ref_df[i])\n",
    "    for i in range(n):\n",
    "        if gene_dict[ref_df.index[i]] in gene_list:\n",
    "            cumsum_score += abs(ref_df[i])/nr\n",
    "        else:\n",
    "            cumsum_score -= 1/(n-ns)\n",
    "\n",
    "        if abs(cumsum_score) > abs(es_score): es_score = cumsum_score\n",
    "    return es_score\n",
    "def cmap(up_gene_list, down_gene_list):\n",
    "    up_gene_list = set(up_gene_list)\n",
    "    down_gene_list = set(down_gene_list)\n",
    "    c_scores = []\n",
    "    for cid in data.columns:\n",
    "        df = data[cid]\n",
    "        df = df.sort_values(ascending=False)\n",
    "        up_es_score = calc_es_score(df, up_gene_list)\n",
    "        down_es_score = calc_es_score(df, down_gene_list)\n",
    "        if up_es_score*down_es_score < 0:\n",
    "            c_scores.append((up_es_score - down_es_score)/2)\n",
    "        else:\n",
    "            c_scores.append(0)\n",
    "    return pd.DataFrame({\"expression\": data.columns, \"c_score\": c_scores})"
   ]
  },
  {
   "cell_type": "code",
   "execution_count": 23,
   "metadata": {},
   "outputs": [
    {
     "name": "stderr",
     "output_type": "stream",
     "text": [
      "C:\\Users\\ngomi\\AppData\\Local\\Temp\\ipykernel_15460\\2498749597.py:12: FutureWarning: Series.__getitem__ treating keys as positions is deprecated. In a future version, integer keys will always be treated as labels (consistent with DataFrame behavior). To access a value by position, use `ser.iloc[pos]`\n",
      "  nr += abs(ref_df[i])\n",
      "C:\\Users\\ngomi\\AppData\\Local\\Temp\\ipykernel_15460\\2498749597.py:15: FutureWarning: Series.__getitem__ treating keys as positions is deprecated. In a future version, integer keys will always be treated as labels (consistent with DataFrame behavior). To access a value by position, use `ser.iloc[pos]`\n",
      "  cumsum_score += abs(ref_df[i])/nr\n"
     ]
    },
    {
     "name": "stdout",
     "output_type": "stream",
     "text": [
      "0.3132934410015845 -0.33898893164488314\n",
      "0.15345214244347416 0.12537390076920105\n",
      "0.2959959241843845 0.18441385711896854\n",
      "0.0931152509360169 0.20828515086741206\n",
      "0.2171626322663239 -0.20674489276461053\n",
      "0.2856296093563266 0.17092900693054242\n",
      "0.21078438926905427 0.20317987736207446\n",
      "0.11567691255029568 0.24034312249222772\n",
      "0.16416544971038324 0.20079637429302094\n",
      "0.409982935569682 0.20438098509618086\n",
      "0.30816639090661446 0.35104115331249425\n",
      "0.2219181786254092 0.22845974011094553\n",
      "-0.21235470321773145 0.16918936903481396\n",
      "-0.1294797277550324 -0.20612610744916365\n",
      "0.15924651175582652 -0.2293116771928959\n",
      "-0.24966886715586764 0.26268276844322763\n",
      "-0.22209609381899725 -0.14330006542024532\n",
      "-0.17727232329018486 -0.16916784142939043\n",
      "-0.2711699091311291 -0.16882122999436042\n",
      "-0.42041307060069183 0.3309157449839473\n",
      "-0.3558899110176151 -0.21175855581429148\n",
      "0.1483206349359311 -0.1897277116812002\n",
      "-0.36962983877023864 -0.1974333661085562\n",
      "-0.4081734997294953 0.297798474889369\n",
      "-0.28739721537055607 0.1883474997597037\n",
      "-0.2071817003879017 -0.18707013377135015\n",
      "-0.33134278080900215 0.1899155998960986\n",
      "-0.2174992800662994 0.21115134725330584\n",
      "-0.17979450164862534 -0.11504168053900592\n",
      "0.16618804107786767 -0.1802209025368279\n",
      "-0.3574259050083207 0.2505015433480465\n",
      "-0.3581968446937248 0.26862313046369457\n",
      "0.14895730805485413 -0.181779618643905\n",
      "0.1968392774847025 -0.26477416619590344\n",
      "-0.1459298551129466 0.1844564609360377\n",
      "-0.21537049597866806 -0.17417220470881814\n",
      "0.1462118165378921 -0.18379620684035497\n",
      "-0.22761132256026917 -0.16104079784515116\n",
      "0.15511839768582714 -0.2960254257109101\n",
      "0.19571933955868429 -0.24739280085312676\n",
      "-0.15688363648825193 0.23057714002808022\n",
      "-0.4205600219189884 0.19323492631496975\n",
      "-0.2851034127095624 0.2762664094647256\n",
      "-0.14538939752383762 -0.17900345923120106\n",
      "-0.25607564077069256 -0.30448356876715016\n",
      "-0.24427108156706706 -0.21483961427763212\n",
      "-0.33482520601083604 0.22108535320867057\n",
      "0.2188384002857074 0.14937516687216248\n",
      "0.2798680928897656 0.1924662712160881\n",
      "0.33121004880413274 -0.2939983392337628\n",
      "-0.14369511653519354 0.17600657072001424\n",
      "0.2615699335477042 -0.2560252189036855\n",
      "0.13603495822993839 0.18222239996590625\n",
      "0.3420687403474924 -0.19990907033115815\n",
      "0.16806403369196357 -0.12836563549618063\n",
      "0.3180071285212729 -0.19480642305488377\n",
      "0.287129099264227 0.2739306554787194\n",
      "0.33996024183670076 -0.21702052230251362\n",
      "0.22818939646617079 0.16957184069300216\n",
      "-0.2642124114529364 0.18788499419234575\n",
      "-0.21075856890059746 -0.17299138220692012\n",
      "-0.13401701985448142 -0.1889228006383622\n",
      "-0.3882980367729604 0.24969101202719438\n",
      "-0.20283003588172752 0.1630116952358443\n",
      "0.23092755774641324 -0.11597321339303146\n",
      "-0.22036286827906465 0.18015393913607572\n",
      "-0.10462386428648567 0.23739499532612773\n",
      "0.3096237083984791 -0.20529396519979157\n",
      "0.2532462557965075 0.2225290687102737\n",
      "0.19834053806960195 -0.2273836232695079\n",
      "0.18356993186411016 -0.2436126257704636\n",
      "-0.25860268351927734 0.1411182703923073\n",
      "-0.2426199234687219 -0.14987093366414117\n",
      "-0.40091083572865327 0.24246086659345345\n",
      "-0.2260966240899837 0.18623201578329077\n",
      "-0.31150009979759985 0.25721605417637\n",
      "0.1865889642427362 -0.208792992418561\n",
      "0.17204451096183615 0.13628939439711826\n",
      "0.18420076899023083 0.1671945391087407\n",
      "-0.267065263895321 -0.2141416249093684\n",
      "0.20321251126966636 -0.28450360528826746\n",
      "-0.2862252654505947 0.3310428345235791\n",
      "-0.4613960804939413 0.3390515521350948\n",
      "-0.1253959922114643 -0.22454736980030773\n",
      "0.15465028165290856 0.24257630098351216\n",
      "-0.286371567540276 -0.2913217324298099\n",
      "0.20680057465269344 0.19013565246813735\n",
      "0.34757464379822833 -0.3217082786977099\n",
      "0.15469273158220953 0.16676922278573822\n",
      "-0.24462838048227178 0.13865142790246543\n",
      "0.21446828162814877 0.1982199430659723\n"
     ]
    },
    {
     "ename": "KeyboardInterrupt",
     "evalue": "",
     "output_type": "error",
     "traceback": [
      "\u001b[1;31m---------------------------------------------------------------------------\u001b[0m",
      "\u001b[1;31mKeyboardInterrupt\u001b[0m                         Traceback (most recent call last)",
      "\u001b[1;32mc:\\Users\\ngomi\\OneDrive\\Tuni\\Thesis\\code\\cmap-imitation\\src\\cmap.ipynb Cell 5\u001b[0m line \u001b[0;36m1\n\u001b[1;32m----> <a href='vscode-notebook-cell:/c%3A/Users/ngomi/OneDrive/Tuni/Thesis/code/cmap-imitation/src/cmap.ipynb#W4sZmlsZQ%3D%3D?line=0'>1</a>\u001b[0m cmap(up_genes, down_genes)\n",
      "\u001b[1;32mc:\\Users\\ngomi\\OneDrive\\Tuni\\Thesis\\code\\cmap-imitation\\src\\cmap.ipynb Cell 5\u001b[0m line \u001b[0;36m2\n\u001b[0;32m     <a href='vscode-notebook-cell:/c%3A/Users/ngomi/OneDrive/Tuni/Thesis/code/cmap-imitation/src/cmap.ipynb#W4sZmlsZQ%3D%3D?line=25'>26</a>\u001b[0m df \u001b[39m=\u001b[39m data[cid]\n\u001b[0;32m     <a href='vscode-notebook-cell:/c%3A/Users/ngomi/OneDrive/Tuni/Thesis/code/cmap-imitation/src/cmap.ipynb#W4sZmlsZQ%3D%3D?line=26'>27</a>\u001b[0m df \u001b[39m=\u001b[39m df\u001b[39m.\u001b[39msort_values(ascending\u001b[39m=\u001b[39m\u001b[39mFalse\u001b[39;00m)\n\u001b[1;32m---> <a href='vscode-notebook-cell:/c%3A/Users/ngomi/OneDrive/Tuni/Thesis/code/cmap-imitation/src/cmap.ipynb#W4sZmlsZQ%3D%3D?line=27'>28</a>\u001b[0m up_es_score \u001b[39m=\u001b[39m calc_es_score(df, up_gene_list)\n\u001b[0;32m     <a href='vscode-notebook-cell:/c%3A/Users/ngomi/OneDrive/Tuni/Thesis/code/cmap-imitation/src/cmap.ipynb#W4sZmlsZQ%3D%3D?line=28'>29</a>\u001b[0m down_es_score \u001b[39m=\u001b[39m calc_es_score(df, down_gene_list)\n\u001b[0;32m     <a href='vscode-notebook-cell:/c%3A/Users/ngomi/OneDrive/Tuni/Thesis/code/cmap-imitation/src/cmap.ipynb#W4sZmlsZQ%3D%3D?line=29'>30</a>\u001b[0m \u001b[39mprint\u001b[39m(up_es_score, down_es_score)\n",
      "\u001b[1;32mc:\\Users\\ngomi\\OneDrive\\Tuni\\Thesis\\code\\cmap-imitation\\src\\cmap.ipynb Cell 5\u001b[0m line \u001b[0;36m1\n\u001b[0;32m     <a href='vscode-notebook-cell:/c%3A/Users/ngomi/OneDrive/Tuni/Thesis/code/cmap-imitation/src/cmap.ipynb#W4sZmlsZQ%3D%3D?line=11'>12</a>\u001b[0m         nr \u001b[39m+\u001b[39m\u001b[39m=\u001b[39m \u001b[39mabs\u001b[39m(ref_df[i])\n\u001b[0;32m     <a href='vscode-notebook-cell:/c%3A/Users/ngomi/OneDrive/Tuni/Thesis/code/cmap-imitation/src/cmap.ipynb#W4sZmlsZQ%3D%3D?line=12'>13</a>\u001b[0m \u001b[39mfor\u001b[39;00m i \u001b[39min\u001b[39;00m \u001b[39mrange\u001b[39m(n):\n\u001b[1;32m---> <a href='vscode-notebook-cell:/c%3A/Users/ngomi/OneDrive/Tuni/Thesis/code/cmap-imitation/src/cmap.ipynb#W4sZmlsZQ%3D%3D?line=13'>14</a>\u001b[0m     \u001b[39mif\u001b[39;00m gene_dict[ref_df\u001b[39m.\u001b[39;49mindex[i]] \u001b[39min\u001b[39;00m gene_list:\n\u001b[0;32m     <a href='vscode-notebook-cell:/c%3A/Users/ngomi/OneDrive/Tuni/Thesis/code/cmap-imitation/src/cmap.ipynb#W4sZmlsZQ%3D%3D?line=14'>15</a>\u001b[0m         cumsum_score \u001b[39m+\u001b[39m\u001b[39m=\u001b[39m \u001b[39mabs\u001b[39m(ref_df[i])\u001b[39m/\u001b[39mnr\n\u001b[0;32m     <a href='vscode-notebook-cell:/c%3A/Users/ngomi/OneDrive/Tuni/Thesis/code/cmap-imitation/src/cmap.ipynb#W4sZmlsZQ%3D%3D?line=15'>16</a>\u001b[0m     \u001b[39melse\u001b[39;00m:\n",
      "File \u001b[1;32mc:\\Users\\ngomi\\AppData\\Local\\Programs\\Python\\Python311\\Lib\\site-packages\\pandas\\core\\indexes\\base.py:5364\u001b[0m, in \u001b[0;36mIndex.__getitem__\u001b[1;34m(self, key)\u001b[0m\n\u001b[0;32m   5360\u001b[0m getitem \u001b[39m=\u001b[39m \u001b[39mself\u001b[39m\u001b[39m.\u001b[39m_data\u001b[39m.\u001b[39m\u001b[39m__getitem__\u001b[39m\n\u001b[0;32m   5362\u001b[0m \u001b[39mif\u001b[39;00m is_integer(key) \u001b[39mor\u001b[39;00m is_float(key):\n\u001b[0;32m   5363\u001b[0m     \u001b[39m# GH#44051 exclude bool, which would return a 2d ndarray\u001b[39;00m\n\u001b[1;32m-> 5364\u001b[0m     key \u001b[39m=\u001b[39m com\u001b[39m.\u001b[39;49mcast_scalar_indexer(key)\n\u001b[0;32m   5365\u001b[0m     \u001b[39mreturn\u001b[39;00m getitem(key)\n\u001b[0;32m   5367\u001b[0m \u001b[39mif\u001b[39;00m \u001b[39misinstance\u001b[39m(key, \u001b[39mslice\u001b[39m):\n\u001b[0;32m   5368\u001b[0m     \u001b[39m# This case is separated from the conditional above to avoid\u001b[39;00m\n\u001b[0;32m   5369\u001b[0m     \u001b[39m# pessimization com.is_bool_indexer and ndim checks.\u001b[39;00m\n",
      "File \u001b[1;32mc:\\Users\\ngomi\\AppData\\Local\\Programs\\Python\\Python311\\Lib\\site-packages\\pandas\\core\\common.py:149\u001b[0m, in \u001b[0;36mcast_scalar_indexer\u001b[1;34m(val)\u001b[0m\n\u001b[0;32m    144\u001b[0m             \u001b[39mreturn\u001b[39;00m lib\u001b[39m.\u001b[39mis_bool_list(key)\n\u001b[0;32m    146\u001b[0m     \u001b[39mreturn\u001b[39;00m \u001b[39mFalse\u001b[39;00m\n\u001b[1;32m--> 149\u001b[0m \u001b[39mdef\u001b[39;00m \u001b[39mcast_scalar_indexer\u001b[39m(val):\n\u001b[0;32m    150\u001b[0m \u001b[39m    \u001b[39m\u001b[39m\"\"\"\u001b[39;00m\n\u001b[0;32m    151\u001b[0m \u001b[39m    Disallow indexing with a float key, even if that key is a round number.\u001b[39;00m\n\u001b[0;32m    152\u001b[0m \n\u001b[1;32m   (...)\u001b[0m\n\u001b[0;32m    159\u001b[0m \u001b[39m    outval : scalar\u001b[39;00m\n\u001b[0;32m    160\u001b[0m \u001b[39m    \"\"\"\u001b[39;00m\n\u001b[0;32m    161\u001b[0m     \u001b[39m# assumes lib.is_scalar(val)\u001b[39;00m\n",
      "\u001b[1;31mKeyboardInterrupt\u001b[0m: "
     ]
    }
   ],
   "source": [
    "cmap(up_genes, down_genes)"
   ]
  },
  {
   "cell_type": "code",
   "execution_count": null,
   "metadata": {},
   "outputs": [],
   "source": []
  }
 ],
 "metadata": {
  "kernelspec": {
   "display_name": "Python 3",
   "language": "python",
   "name": "python3"
  },
  "language_info": {
   "codemirror_mode": {
    "name": "ipython",
    "version": 3
   },
   "file_extension": ".py",
   "mimetype": "text/x-python",
   "name": "python",
   "nbconvert_exporter": "python",
   "pygments_lexer": "ipython3",
   "version": "3.11.5"
  }
 },
 "nbformat": 4,
 "nbformat_minor": 2
}
